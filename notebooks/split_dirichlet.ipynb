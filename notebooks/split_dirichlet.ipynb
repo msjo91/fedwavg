{
 "cells": [
  {
   "cell_type": "code",
   "execution_count": 1,
   "metadata": {},
   "outputs": [],
   "source": [
    "import json\n",
    "import os\n",
    "import random\n",
    "from collections import Counter\n",
    "\n",
    "import numpy as np\n",
    "from torchvision import datasets\n",
    "from tqdm.notebook import tqdm"
   ]
  },
  {
   "cell_type": "code",
   "execution_count": 2,
   "metadata": {},
   "outputs": [],
   "source": [
    "seed = 42\n",
    "\n",
    "os.environ['PYTHONHASHSEED'] = str(seed)\n",
    "random.seed(seed)\n",
    "np.random.seed(seed)"
   ]
  },
  {
   "cell_type": "code",
   "execution_count": 3,
   "metadata": {},
   "outputs": [],
   "source": [
    "path_data = os.path.join(os.path.dirname(os.getcwd()), 'data')\n",
    "os.makedirs(path_data, exist_ok=True)"
   ]
  },
  {
   "cell_type": "code",
   "execution_count": 4,
   "metadata": {},
   "outputs": [],
   "source": [
    "def display_dist(clients, num_labels):\n",
    "    cnt = 0\n",
    "    for k, v in clients.items():\n",
    "        classes = []\n",
    "        for c in range(num_labels):\n",
    "            if c in np.unique(v['label']):\n",
    "                classes.append(c)\n",
    "            else:\n",
    "                classes.append('_')\n",
    "        print(f\"[{k:>2}]  #sample  {len(v['index']):>5d}  >>  Classes  {' '.join(str(y) for y in classes)}  ({len(np.unique(v['label'])):>2d})  >>  {sorted(Counter(v['label']).items())}\")\n",
    "        cnt += len(v['index'])\n",
    "\n",
    "    print(f'---\\n[Total] {cnt}')\n",
    "    print(f'\\n#sample_left {len(train_dataset)} - {cnt} = {len(train_dataset) - cnt}\\n')"
   ]
  },
  {
   "cell_type": "markdown",
   "metadata": {},
   "source": [
    "# Get Data"
   ]
  },
  {
   "cell_type": "code",
   "execution_count": 5,
   "metadata": {},
   "outputs": [
    {
     "name": "stdout",
     "output_type": "stream",
     "text": [
      "Files already downloaded and verified\n"
     ]
    }
   ],
   "source": [
    "dataset = 'cifar10'\n",
    "\n",
    "if dataset == 'cifar10':\n",
    "    train_dataset = datasets.CIFAR10(path_data, train=True, download=True)\n",
    "elif dataset == 'svhn':\n",
    "    train_dataset = datasets.SVHN(path_data, split='train', download=True)\n",
    "elif dataset == 'fmnist':\n",
    "    train_dataset = datasets.FashionMNIST(path_data, train=True, download=True)\n",
    "elif dataset == 'mnist':\n",
    "    train_dataset = datasets.MNIST(path_data, train=True, download=True)\n",
    "elif dataset == 'stl10':\n",
    "    train_dataset = datasets.STL10(path_data, split='train', download=True)\n",
    "    \n",
    "try:\n",
    "    labels = np.asarray(train_dataset.targets)\n",
    "except AttributeError:\n",
    "    labels = np.asarray(train_dataset.labels)\n",
    "    \n",
    "num_labels = len(np.unique(labels))\n",
    "N = len(train_dataset)\n",
    "indices = np.arange(N)"
   ]
  },
  {
   "cell_type": "markdown",
   "metadata": {},
   "source": [
    "# Split Data"
   ]
  },
  {
   "cell_type": "code",
   "execution_count": 6,
   "metadata": {
    "tags": []
   },
   "outputs": [
    {
     "data": {
      "application/vnd.jupyter.widget-view+json": {
       "model_id": "18f07a7e6da54715bf50380cc9fcd0f5",
       "version_major": 2,
       "version_minor": 0
      },
      "text/plain": [
       "  0%|          | 0/100 [00:00<?, ?it/s]"
      ]
     },
     "metadata": {},
     "output_type": "display_data"
    },
    {
     "name": "stdout",
     "output_type": "stream",
     "text": [
      "[ 0]  #sample    500  >>  Classes  _ 1 _ _ 4 _ 6 _ _ _  ( 3)  >>  [(1, 104), (4, 20), (6, 376)]\n",
      "[ 1]  #sample    500  >>  Classes  _ _ 2 3 4 _ 6 _ 8 _  ( 5)  >>  [(2, 48), (3, 34), (4, 71), (6, 343), (8, 4)]\n",
      "[ 2]  #sample    500  >>  Classes  _ 1 _ 3 _ _ _ _ _ 9  ( 3)  >>  [(1, 486), (3, 6), (9, 8)]\n",
      "[ 3]  #sample    500  >>  Classes  _ _ 2 3 4 5 _ 7 8 9  ( 7)  >>  [(2, 4), (3, 266), (4, 4), (5, 42), (7, 50), (8, 38), (9, 96)]\n",
      "[ 4]  #sample    500  >>  Classes  _ _ _ 3 4 5 6 _ 8 _  ( 5)  >>  [(3, 1), (4, 57), (5, 264), (6, 1), (8, 177)]\n",
      "[ 5]  #sample    500  >>  Classes  0 _ 2 _ 4 _ 6 7 8 9  ( 7)  >>  [(0, 143), (2, 2), (4, 7), (6, 39), (7, 8), (8, 31), (9, 270)]\n",
      "[ 6]  #sample    500  >>  Classes  0 _ 2 _ 4 _ _ _ 8 9  ( 5)  >>  [(0, 31), (2, 220), (4, 175), (8, 8), (9, 66)]\n",
      "[ 7]  #sample    500  >>  Classes  _ _ 2 _ _ _ _ _ _ 9  ( 2)  >>  [(2, 485), (9, 15)]\n",
      "[ 8]  #sample    500  >>  Classes  _ 1 _ _ _ _ 6 7 _ 9  ( 4)  >>  [(1, 10), (6, 4), (7, 479), (9, 7)]\n",
      "[ 9]  #sample    500  >>  Classes  _ 1 2 _ _ _ _ _ _ 9  ( 3)  >>  [(1, 384), (2, 84), (9, 32)]\n",
      "[10]  #sample    500  >>  Classes  0 _ 2 _ 4 5 6 7 8 9  ( 8)  >>  [(0, 63), (2, 2), (4, 317), (5, 9), (6, 2), (7, 3), (8, 12), (9, 92)]\n",
      "[11]  #sample    500  >>  Classes  0 1 2 _ 4 5 6 7 _ _  ( 7)  >>  [(0, 3), (1, 41), (2, 22), (4, 1), (5, 159), (6, 273), (7, 1)]\n",
      "[12]  #sample    500  >>  Classes  0 _ _ 3 _ 5 6 7 8 _  ( 6)  >>  [(0, 36), (3, 298), (5, 21), (6, 111), (7, 32), (8, 2)]\n",
      "[13]  #sample    500  >>  Classes  _ _ 2 3 _ 5 _ _ _ 9  ( 4)  >>  [(2, 11), (3, 476), (5, 9), (9, 4)]\n",
      "[14]  #sample    500  >>  Classes  _ 1 _ 3 _ 5 _ _ _ 9  ( 4)  >>  [(1, 244), (3, 189), (5, 56), (9, 11)]\n",
      "[15]  #sample    500  >>  Classes  0 _ _ 3 4 _ 6 _ _ _  ( 4)  >>  [(0, 5), (3, 61), (4, 427), (6, 7)]\n",
      "[16]  #sample    500  >>  Classes  0 _ _ _ 4 5 _ 7 8 _  ( 5)  >>  [(0, 46), (4, 369), (5, 2), (7, 79), (8, 4)]\n",
      "[17]  #sample    500  >>  Classes  0 _ _ 3 4 _ 6 7 _ 9  ( 6)  >>  [(0, 1), (3, 221), (4, 26), (6, 37), (7, 112), (9, 103)]\n",
      "[18]  #sample    500  >>  Classes  _ 1 _ 3 4 _ _ _ 8 _  ( 4)  >>  [(1, 26), (3, 348), (4, 35), (8, 91)]\n",
      "[19]  #sample    500  >>  Classes  _ 1 2 3 _ 5 6 _ 8 _  ( 6)  >>  [(1, 91), (2, 23), (3, 35), (5, 23), (6, 304), (8, 24)]\n",
      "[20]  #sample    500  >>  Classes  0 1 2 3 _ _ 6 7 8 _  ( 7)  >>  [(0, 8), (1, 12), (2, 3), (3, 429), (6, 18), (7, 3), (8, 27)]\n",
      "[21]  #sample    500  >>  Classes  _ 1 2 3 4 _ 6 _ _ 9  ( 6)  >>  [(1, 2), (2, 30), (3, 15), (4, 351), (6, 1), (9, 101)]\n",
      "[22]  #sample    500  >>  Classes  0 _ 2 _ _ 5 6 7 _ 9  ( 6)  >>  [(0, 15), (2, 288), (5, 1), (6, 12), (7, 139), (9, 45)]\n",
      "[23]  #sample    500  >>  Classes  _ 1 2 _ 4 _ _ 7 8 _  ( 5)  >>  [(1, 22), (2, 165), (4, 199), (7, 112), (8, 2)]\n",
      "[24]  #sample    500  >>  Classes  _ 1 _ _ _ 5 6 7 _ 9  ( 5)  >>  [(1, 31), (5, 22), (6, 2), (7, 379), (9, 66)]\n",
      "[25]  #sample    500  >>  Classes  _ 1 _ 3 4 _ 6 7 8 _  ( 6)  >>  [(1, 153), (3, 176), (4, 24), (6, 21), (7, 12), (8, 114)]\n",
      "[26]  #sample    500  >>  Classes  0 _ 2 3 4 _ 6 7 8 _  ( 7)  >>  [(0, 9), (2, 37), (3, 356), (4, 28), (6, 28), (7, 41), (8, 1)]\n",
      "[27]  #sample    500  >>  Classes  _ 1 2 _ _ 5 _ _ 8 9  ( 5)  >>  [(1, 332), (2, 38), (5, 79), (8, 48), (9, 3)]\n",
      "[28]  #sample    500  >>  Classes  _ _ 2 3 4 _ _ 7 _ _  ( 4)  >>  [(2, 26), (3, 1), (4, 472), (7, 1)]\n",
      "[29]  #sample    500  >>  Classes  0 1 _ 3 _ 5 _ 7 _ _  ( 5)  >>  [(0, 79), (1, 1), (3, 17), (5, 3), (7, 400)]\n",
      "[30]  #sample    500  >>  Classes  _ _ 2 3 _ 5 6 _ 8 9  ( 6)  >>  [(2, 3), (3, 4), (5, 3), (6, 1), (8, 480), (9, 9)]\n",
      "[31]  #sample    500  >>  Classes  _ _ _ _ 4 _ _ 7 8 _  ( 3)  >>  [(4, 255), (7, 109), (8, 136)]\n",
      "[32]  #sample    500  >>  Classes  0 1 _ 3 _ _ 6 7 8 9  ( 7)  >>  [(0, 31), (1, 7), (3, 126), (6, 1), (7, 13), (8, 321), (9, 1)]\n",
      "[33]  #sample    500  >>  Classes  _ 1 _ 3 4 _ _ 7 _ 9  ( 5)  >>  [(1, 217), (3, 210), (4, 14), (7, 54), (9, 5)]\n",
      "[34]  #sample    500  >>  Classes  0 _ 2 _ 4 _ 6 _ _ 9  ( 5)  >>  [(0, 62), (2, 143), (4, 5), (6, 135), (9, 155)]\n",
      "[35]  #sample    500  >>  Classes  0 1 2 _ _ 5 6 _ 8 _  ( 6)  >>  [(0, 84), (1, 1), (2, 4), (5, 32), (6, 375), (8, 4)]\n",
      "[36]  #sample    500  >>  Classes  0 1 2 _ 4 5 6 7 _ 9  ( 8)  >>  [(0, 4), (1, 320), (2, 3), (4, 65), (5, 13), (6, 7), (7, 87), (9, 1)]\n",
      "[37]  #sample    500  >>  Classes  0 _ 2 3 4 _ 6 _ 8 9  ( 7)  >>  [(0, 2), (2, 328), (3, 16), (4, 12), (6, 60), (8, 4), (9, 78)]\n",
      "[38]  #sample    500  >>  Classes  0 _ 2 3 4 _ 6 7 _ 9  ( 7)  >>  [(0, 423), (2, 2), (3, 31), (4, 3), (6, 23), (7, 1), (9, 17)]\n",
      "[39]  #sample    500  >>  Classes  _ _ 2 3 _ 5 _ _ 8 _  ( 4)  >>  [(2, 21), (3, 51), (5, 418), (8, 10)]\n",
      "[40]  #sample    500  >>  Classes  _ _ 2 _ 4 5 6 7 8 9  ( 7)  >>  [(2, 1), (4, 18), (5, 443), (6, 27), (7, 2), (8, 4), (9, 5)]\n",
      "[41]  #sample    500  >>  Classes  0 1 _ 3 4 _ 6 7 _ 9  ( 7)  >>  [(0, 6), (1, 151), (3, 7), (4, 5), (6, 249), (7, 77), (9, 5)]\n",
      "[42]  #sample    500  >>  Classes  0 1 2 3 _ 5 _ _ _ 9  ( 6)  >>  [(0, 1), (1, 2), (2, 40), (3, 182), (5, 9), (9, 266)]\n",
      "[43]  #sample    500  >>  Classes  0 1 2 _ 4 5 6 7 8 9  ( 9)  >>  [(0, 128), (1, 68), (2, 8), (4, 39), (5, 50), (6, 121), (7, 17), (8, 65), (9, 4)]\n",
      "[44]  #sample    500  >>  Classes  _ 1 2 3 4 5 6 _ _ _  ( 6)  >>  [(1, 2), (2, 11), (3, 13), (4, 50), (5, 255), (6, 169)]\n",
      "[45]  #sample    500  >>  Classes  0 _ _ _ _ 5 6 7 _ _  ( 4)  >>  [(0, 17), (5, 66), (6, 415), (7, 2)]\n",
      "[46]  #sample    500  >>  Classes  0 _ _ 3 4 5 6 _ 8 9  ( 7)  >>  [(0, 1), (3, 25), (4, 18), (5, 272), (6, 15), (8, 166), (9, 3)]\n",
      "[47]  #sample    500  >>  Classes  _ _ 2 _ _ 5 6 _ 8 9  ( 5)  >>  [(2, 11), (5, 23), (6, 170), (8, 21), (9, 275)]\n",
      "[48]  #sample    500  >>  Classes  _ _ 2 _ 4 5 6 _ 8 9  ( 6)  >>  [(2, 2), (4, 450), (5, 14), (6, 24), (8, 2), (9, 8)]\n",
      "[49]  #sample    500  >>  Classes  _ 1 2 3 _ 5 6 _ _ 9  ( 6)  >>  [(1, 81), (2, 49), (3, 1), (5, 345), (6, 2), (9, 22)]\n",
      "[50]  #sample    500  >>  Classes  0 1 _ 3 _ 5 _ 7 _ _  ( 5)  >>  [(0, 18), (1, 143), (3, 103), (5, 32), (7, 204)]\n",
      "[51]  #sample    500  >>  Classes  _ 1 2 3 _ 5 _ _ _ _  ( 4)  >>  [(1, 6), (2, 486), (3, 2), (5, 6)]\n",
      "[52]  #sample    500  >>  Classes  0 _ _ 3 _ 5 6 7 8 _  ( 6)  >>  [(0, 174), (3, 12), (5, 1), (6, 6), (7, 238), (8, 69)]\n",
      "[53]  #sample    500  >>  Classes  _ _ _ 3 _ _ 6 _ 8 9  ( 4)  >>  [(3, 184), (6, 311), (8, 1), (9, 4)]\n",
      "[54]  #sample    500  >>  Classes  _ _ 2 _ _ 5 _ _ 8 _  ( 3)  >>  [(2, 319), (5, 17), (8, 164)]\n",
      "[55]  #sample    500  >>  Classes  0 _ 2 _ _ 5 _ _ 8 9  ( 5)  >>  [(0, 235), (2, 4), (5, 22), (8, 224), (9, 15)]\n",
      "[56]  #sample    500  >>  Classes  _ 1 _ _ 4 _ _ _ _ _  ( 2)  >>  [(1, 40), (4, 460)]\n",
      "[57]  #sample    500  >>  Classes  _ 1 _ _ _ _ _ _ _ _  ( 1)  >>  [(1, 500)]\n",
      "[58]  #sample    500  >>  Classes  0 1 2 _ 4 _ 6 _ _ _  ( 5)  >>  [(0, 2), (1, 289), (2, 86), (4, 37), (6, 86)]\n",
      "[59]  #sample    500  >>  Classes  0 1 2 3 4 5 _ 7 _ 9  ( 8)  >>  [(0, 18), (1, 122), (2, 38), (3, 31), (4, 14), (5, 256), (7, 12), (9, 9)]\n",
      "[60]  #sample    500  >>  Classes  _ _ _ 3 4 _ _ 7 8 9  ( 5)  >>  [(3, 9), (4, 48), (7, 76), (8, 365), (9, 2)]\n",
      "[61]  #sample    500  >>  Classes  _ 1 2 3 4 _ _ 7 _ _  ( 5)  >>  [(1, 3), (2, 28), (3, 454), (4, 13), (7, 2)]\n",
      "[62]  #sample    500  >>  Classes  _ _ 2 _ 4 5 6 _ _ _  ( 4)  >>  [(2, 19), (4, 2), (5, 478), (6, 1)]\n",
      "[63]  #sample    500  >>  Classes  0 _ 2 3 4 _ 6 _ 8 _  ( 6)  >>  [(0, 53), (2, 1), (3, 5), (4, 13), (6, 108), (8, 320)]\n",
      "[64]  #sample    500  >>  Classes  _ 1 _ 3 4 5 _ 7 8 9  ( 7)  >>  [(1, 18), (3, 215), (4, 174), (5, 36), (7, 5), (8, 5), (9, 47)]\n",
      "[65]  #sample    500  >>  Classes  0 _ _ _ 4 5 _ _ 8 9  ( 5)  >>  [(0, 180), (4, 21), (5, 153), (8, 56), (9, 90)]\n",
      "[66]  #sample    500  >>  Classes  0 _ _ _ _ 5 _ 7 _ 9  ( 4)  >>  [(0, 13), (5, 283), (7, 35), (9, 169)]\n",
      "[67]  #sample    500  >>  Classes  0 _ _ 3 _ 5 _ _ 8 9  ( 5)  >>  [(0, 195), (3, 57), (5, 2), (8, 243), (9, 3)]\n",
      "[68]  #sample    500  >>  Classes  _ 1 2 _ _ _ _ _ 8 9  ( 4)  >>  [(1, 18), (2, 3), (8, 7), (9, 472)]\n",
      "[69]  #sample    500  >>  Classes  0 1 2 3 _ 5 _ 7 _ _  ( 6)  >>  [(0, 125), (1, 225), (2, 11), (3, 15), (5, 54), (7, 70)]\n",
      "[70]  #sample    500  >>  Classes  0 _ 2 _ _ _ 6 7 _ 9  ( 5)  >>  [(0, 72), (2, 1), (6, 12), (7, 271), (9, 144)]\n",
      "[71]  #sample    500  >>  Classes  0 1 _ _ 4 _ 6 7 _ 9  ( 6)  >>  [(0, 390), (1, 5), (4, 12), (6, 5), (7, 81), (9, 7)]\n",
      "[72]  #sample    500  >>  Classes  _ 1 2 3 _ _ _ _ _ 9  ( 4)  >>  [(1, 7), (2, 486), (3, 1), (9, 6)]\n",
      "[73]  #sample    500  >>  Classes  _ _ _ _ 4 5 6 _ _ 9  ( 4)  >>  [(4, 5), (5, 63), (6, 1), (9, 431)]\n",
      "[74]  #sample    500  >>  Classes  _ _ 2 _ 4 5 _ _ 8 _  ( 4)  >>  [(2, 11), (4, 4), (5, 130), (8, 355)]\n",
      "[75]  #sample    500  >>  Classes  _ 1 _ 3 4 _ 6 _ _ 9  ( 5)  >>  [(1, 84), (3, 3), (4, 40), (6, 372), (9, 1)]\n",
      "[76]  #sample    500  >>  Classes  _ 1 _ 3 4 _ 6 7 _ 9  ( 6)  >>  [(1, 73), (3, 2), (4, 72), (6, 13), (7, 308), (9, 32)]\n",
      "[77]  #sample    500  >>  Classes  _ _ 2 3 _ 5 _ 7 8 9  ( 6)  >>  [(2, 7), (3, 8), (5, 58), (7, 235), (8, 1), (9, 191)]\n",
      "[78]  #sample    500  >>  Classes  _ 1 2 3 4 _ _ 7 _ 9  ( 6)  >>  [(1, 2), (2, 2), (3, 28), (4, 202), (7, 248), (9, 18)]\n",
      "[79]  #sample    500  >>  Classes  _ 1 2 _ _ 5 _ 7 _ 9  ( 5)  >>  [(1, 160), (2, 59), (5, 3), (7, 276), (9, 2)]\n",
      "[80]  #sample    500  >>  Classes  0 _ _ 3 4 _ _ 7 8 9  ( 6)  >>  [(0, 348), (3, 37), (4, 2), (7, 19), (8, 15), (9, 79)]\n",
      "[81]  #sample    500  >>  Classes  0 1 _ _ _ 5 6 _ 8 _  ( 5)  >>  [(0, 122), (1, 2), (5, 51), (6, 83), (8, 242)]\n",
      "[82]  #sample    500  >>  Classes  _ _ 2 _ 4 _ 6 7 _ 9  ( 5)  >>  [(2, 9), (4, 85), (6, 7), (7, 156), (9, 243)]\n",
      "[83]  #sample    500  >>  Classes  0 1 _ _ 4 5 6 7 8 _  ( 7)  >>  [(0, 24), (1, 234), (4, 12), (5, 138), (6, 83), (7, 1), (8, 8)]\n",
      "[84]  #sample    500  >>  Classes  _ _ 2 3 4 5 _ _ _ _  ( 4)  >>  [(2, 10), (3, 6), (4, 158), (5, 326)]\n",
      "[85]  #sample    500  >>  Classes  0 _ _ _ 4 _ _ 7 _ 9  ( 4)  >>  [(0, 304), (4, 5), (7, 10), (9, 181)]\n",
      "[86]  #sample    500  >>  Classes  _ _ _ _ _ _ 6 7 8 _  ( 3)  >>  [(6, 23), (7, 23), (8, 454)]\n",
      "[87]  #sample    500  >>  Classes  0 _ _ _ _ 5 _ 7 8 _  ( 4)  >>  [(0, 111), (5, 13), (7, 1), (8, 375)]\n",
      "[88]  #sample    500  >>  Classes  0 _ 2 _ _ _ _ 7 _ _  ( 3)  >>  [(0, 182), (2, 1), (7, 317)]\n",
      "[89]  #sample    500  >>  Classes  0 1 _ 3 _ _ 6 7 8 _  ( 6)  >>  [(0, 69), (1, 2), (3, 1), (6, 23), (7, 199), (8, 206)]\n",
      "[90]  #sample    500  >>  Classes  _ 1 2 _ 4 5 _ _ 8 9  ( 6)  >>  [(1, 29), (2, 398), (4, 65), (5, 3), (8, 1), (9, 4)]\n",
      "[91]  #sample    500  >>  Classes  0 _ 2 3 _ 5 6 _ _ 9  ( 6)  >>  [(0, 85), (2, 39), (3, 8), (5, 3), (6, 144), (9, 221)]\n",
      "[92]  #sample    500  >>  Classes  0 1 2 3 _ _ 6 _ 8 9  ( 7)  >>  [(0, 150), (1, 1), (2, 40), (3, 85), (6, 16), (8, 2), (9, 206)]\n",
      "[93]  #sample    500  >>  Classes  0 1 2 3 4 5 _ _ 8 9  ( 8)  >>  [(0, 74), (1, 160), (2, 2), (3, 139), (4, 39), (5, 2), (8, 82), (9, 2)]\n",
      "[94]  #sample    500  >>  Classes  _ 1 2 _ _ _ 6 _ _ _  ( 3)  >>  [(1, 89), (2, 408), (6, 3)]\n",
      "[95]  #sample    500  >>  Classes  _ _ _ _ _ _ 6 _ 8 9  ( 3)  >>  [(6, 117), (8, 9), (9, 374)]\n",
      "[96]  #sample    500  >>  Classes  0 _ 2 _ _ _ 6 _ _ 9  ( 4)  >>  [(0, 5), (2, 325), (6, 5), (9, 165)]\n",
      "[97]  #sample    500  >>  Classes  0 _ _ _ _ 5 _ _ _ 9  ( 3)  >>  [(0, 490), (5, 5), (9, 5)]\n",
      "[98]  #sample    500  >>  Classes  0 _ 2 _ _ _ 6 _ _ 9  ( 4)  >>  [(0, 95), (2, 93), (6, 208), (9, 104)]\n",
      "[99]  #sample    500  >>  Classes  0 _ _ _ _ 5 _ _ _ _  ( 2)  >>  [(0, 268), (5, 232)]\n",
      "---\n",
      "[Total] 50000\n",
      "\n",
      "#sample_left 50000 - 50000 = 0\n",
      "\n"
     ]
    }
   ],
   "source": [
    "alpha = 0.1\n",
    "num_clients = 100\n",
    "\n",
    "train_size = N // num_clients\n",
    "\n",
    "clients = {}\n",
    "taken = []\n",
    "for c in tqdm(range(num_clients)):\n",
    "    p = np.random.dirichlet(np.repeat(alpha, num_labels))\n",
    "    w = np.zeros(N)\n",
    "    for l in range(num_labels):\n",
    "        w[labels == l] = p[l]\n",
    "    w[taken] = 0.0\n",
    "    w /= w.sum()\n",
    "    x = np.random.choice(indices, size=train_size, p=w, replace=False).tolist()\n",
    "    y = labels[x].tolist()\n",
    "    cli = clients.get(str(c), {'index': [], 'label': []})\n",
    "    cli['index'].extend(x)\n",
    "    cli['label'].extend(y)\n",
    "    clients[str(c)] = cli\n",
    "    taken.extend(x)\n",
    "\n",
    "display_dist(clients, num_labels)"
   ]
  },
  {
   "cell_type": "markdown",
   "metadata": {},
   "source": [
    "# Save Data"
   ]
  },
  {
   "cell_type": "code",
   "execution_count": 7,
   "metadata": {},
   "outputs": [],
   "source": [
    "mode = 'diri{}a{}'.format(num_clients, ''.join(e for e in str(alpha) if e.isalnum()))\n",
    "filename = f'{dataset}_{mode}_{seed}'\n",
    "\n",
    "with open(os.path.join(path_data, filename + '.json'), 'w') as f:\n",
    "    json.dump(clients, f)"
   ]
  }
 ],
 "metadata": {
  "kernelspec": {
   "display_name": "Python 3",
   "language": "python",
   "name": "python3"
  },
  "language_info": {
   "codemirror_mode": {
    "name": "ipython",
    "version": 3
   },
   "file_extension": ".py",
   "mimetype": "text/x-python",
   "name": "python",
   "nbconvert_exporter": "python",
   "pygments_lexer": "ipython3",
   "version": "3.7.10"
  }
 },
 "nbformat": 4,
 "nbformat_minor": 4
}
